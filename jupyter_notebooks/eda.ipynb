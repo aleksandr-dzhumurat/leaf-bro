{
 "cells": [
  {
   "cell_type": "code",
   "execution_count": 1,
   "id": "27ea6454-937c-4711-ad65-bbd8981935b7",
   "metadata": {},
   "outputs": [
    {
     "data": {
      "text/plain": [
       "True"
      ]
     },
     "execution_count": 1,
     "metadata": {},
     "output_type": "execute_result"
    }
   ],
   "source": [
    "from dotenv import load_dotenv\n",
    "from elasticsearch import Elasticsearch, ConnectionError\n",
    "\n",
    "es_client = Elasticsearch('http://localhost:9200')\n",
    "\n",
    "\n",
    "# Load environment variables from the .env file\n",
    "load_dotenv()"
   ]
  },
  {
   "cell_type": "code",
   "execution_count": 2,
   "id": "882052e5-49c0-42ef-8974-5ad74a32a901",
   "metadata": {},
   "outputs": [
    {
     "name": "stdout",
     "output_type": "stream",
     "text": [
      "Elastic unreachable\n"
     ]
    }
   ],
   "source": [
    "def elastic_search(es_client, query, limit=3, filter=None, random=False):\n",
    "    if random:\n",
    "        search_query = {\n",
    "          \"size\": 10,\n",
    "          \"query\": {\n",
    "            \"function_score\": {\n",
    "              \"functions\": [\n",
    "                {\n",
    "                  \"random_score\": {}\n",
    "                }\n",
    "              ]\n",
    "            }\n",
    "          }\n",
    "        }\n",
    "    else:\n",
    "        search_query = {\n",
    "            \"size\": 5,\n",
    "            \"query\": {\n",
    "                \"bool\": {\n",
    "                    \"must\": {\n",
    "                        \"multi_match\": {\n",
    "                            \"query\": query,\n",
    "                            \"fields\": [\"relief\", \"positive_effects\", \"flavours\"],\n",
    "                            \"type\": \"best_fields\"\n",
    "                        }\n",
    "                    },\n",
    "                    \"filter\": {  # TODO: add filter as parameter\n",
    "                        \"term\": {\n",
    "                            \"category\": \"flower\"\n",
    "                        }\n",
    "                    }\n",
    "                }\n",
    "            }\n",
    "        }\n",
    "    response = es_client.search(index=index_name, body=search_query)\n",
    "    \n",
    "    return response['hits']['hits'][:limit]\n",
    "\n",
    "def pretty(search_results):\n",
    "    result_docs = []\n",
    "    \n",
    "    for hit in search_results:\n",
    "        result_docs.append({hit['_score']: hit['_source']})\n",
    "    return result_docs\n",
    "\n",
    "try:\n",
    "    query = 'Lemon, headache'\n",
    "    index_name = \"course-questions\"\n",
    "    \n",
    "    res = elastic_search(es_client, query, random=True)\n",
    "    sample = res[0]['_source']\n",
    "    print(sample.keys())\n",
    "    print()\n",
    "    print(pretty(res))\n",
    "except ConnectionError:\n",
    "    print('Elastic unreachable')"
   ]
  },
  {
   "cell_type": "markdown",
   "id": "be54736a-14d1-4cc3-8c0e-558d30fff2cb",
   "metadata": {},
   "source": [
    "# Prepare data"
   ]
  },
  {
   "cell_type": "code",
   "execution_count": 3,
   "id": "61b88907-f541-40ea-88e1-8aad924028f2",
   "metadata": {},
   "outputs": [
    {
     "name": "stdout",
     "output_type": "stream",
     "text": [
      "['content_queries.json', 'content_reviews_green_bro.json', 'content_green_bro.csv', 'ground_truth.json']\n"
     ]
    }
   ],
   "source": [
    "import os\n",
    "import pandas as pd\n",
    "\n",
    "current_file_dir = os.getcwd()\n",
    "app_files_dir = os.path.join(os.path.dirname(current_file_dir), 'data', 'pipelines-data')\n",
    "\n",
    "print(os.listdir(app_files_dir))\n",
    "\n",
    "res_csv_path = os.path.join(app_files_dir, 'content_green_bro.csv')\n",
    "\n",
    "content_db = pd.read_csv(res_csv_path)"
   ]
  },
  {
   "cell_type": "code",
   "execution_count": 4,
   "id": "67886ca9-0dda-4c17-8e7f-70719505bbcf",
   "metadata": {},
   "outputs": [
    {
     "data": {
      "text/html": [
       "<div>\n",
       "<style scoped>\n",
       "    .dataframe tbody tr th:only-of-type {\n",
       "        vertical-align: middle;\n",
       "    }\n",
       "\n",
       "    .dataframe tbody tr th {\n",
       "        vertical-align: top;\n",
       "    }\n",
       "\n",
       "    .dataframe thead th {\n",
       "        text-align: right;\n",
       "    }\n",
       "</style>\n",
       "<table border=\"1\" class=\"dataframe\">\n",
       "  <thead>\n",
       "    <tr style=\"text-align: right;\">\n",
       "      <th></th>\n",
       "      <th>title</th>\n",
       "      <th>item_name</th>\n",
       "      <th>tags</th>\n",
       "      <th>relief</th>\n",
       "      <th>positive_effects</th>\n",
       "      <th>flavours</th>\n",
       "      <th>avg_rating</th>\n",
       "      <th>num_ratings</th>\n",
       "    </tr>\n",
       "  </thead>\n",
       "  <tbody>\n",
       "    <tr>\n",
       "      <th>0</th>\n",
       "      <td>Casey Jones</td>\n",
       "      <td>casey-jones</td>\n",
       "      <td>Sativa Dominant|80% Sativa/20% Indica</td>\n",
       "      <td>add/adhd arthritis bipolar disorder chronic pa...</td>\n",
       "      <td>creative euphoria focus happy</td>\n",
       "      <td>citrus fruity lemon sweet</td>\n",
       "      <td>4.6</td>\n",
       "      <td>38</td>\n",
       "    </tr>\n",
       "    <tr>\n",
       "      <th>1</th>\n",
       "      <td>Gorilla Glue #4</td>\n",
       "      <td>gorilla-glue-4</td>\n",
       "      <td>Indica Dominant|60% Indica/40% Sativa</td>\n",
       "      <td>add/adhd bipolar disorder chronic pain depress...</td>\n",
       "      <td>body high euphoria happy uplifting</td>\n",
       "      <td>chemical chocolate coffee diesel pine sweet</td>\n",
       "      <td>4.6</td>\n",
       "      <td>339</td>\n",
       "    </tr>\n",
       "    <tr>\n",
       "      <th>2</th>\n",
       "      <td>Cherry Pie</td>\n",
       "      <td>cherry-pie</td>\n",
       "      <td>Indica Dominant|80% Indica/20% Sativa</td>\n",
       "      <td>add/adhd anxiety bipolar disorder chronic pain...</td>\n",
       "      <td>creative euphoria happy relaxing</td>\n",
       "      <td>berry cherry sweet</td>\n",
       "      <td>4.5</td>\n",
       "      <td>110</td>\n",
       "    </tr>\n",
       "    <tr>\n",
       "      <th>3</th>\n",
       "      <td>Amnesia Haze</td>\n",
       "      <td>amnesia-haze</td>\n",
       "      <td>Sativa Dominant|80% Sativa/20% Indica</td>\n",
       "      <td>add/adhd anxiety cancer chronic pain depressio...</td>\n",
       "      <td>creative euphoria giggly happy</td>\n",
       "      <td>citrus lemon sweet</td>\n",
       "      <td>4.5</td>\n",
       "      <td>55</td>\n",
       "    </tr>\n",
       "    <tr>\n",
       "      <th>4</th>\n",
       "      <td>Blueberry</td>\n",
       "      <td>blueberry</td>\n",
       "      <td>Indica Dominant|80% Indica/20% Sativa</td>\n",
       "      <td>add/adhd bipolar disorder depression insomnia ...</td>\n",
       "      <td>euphoria happy sleepy</td>\n",
       "      <td>berry blueberry sweet woody</td>\n",
       "      <td>4.5</td>\n",
       "      <td>95</td>\n",
       "    </tr>\n",
       "  </tbody>\n",
       "</table>\n",
       "</div>"
      ],
      "text/plain": [
       "             title       item_name                                   tags  \\\n",
       "0      Casey Jones     casey-jones  Sativa Dominant|80% Sativa/20% Indica   \n",
       "1  Gorilla Glue #4  gorilla-glue-4  Indica Dominant|60% Indica/40% Sativa   \n",
       "2       Cherry Pie      cherry-pie  Indica Dominant|80% Indica/20% Sativa   \n",
       "3     Amnesia Haze    amnesia-haze  Sativa Dominant|80% Sativa/20% Indica   \n",
       "4        Blueberry       blueberry  Indica Dominant|80% Indica/20% Sativa   \n",
       "\n",
       "                                              relief  \\\n",
       "0  add/adhd arthritis bipolar disorder chronic pa...   \n",
       "1  add/adhd bipolar disorder chronic pain depress...   \n",
       "2  add/adhd anxiety bipolar disorder chronic pain...   \n",
       "3  add/adhd anxiety cancer chronic pain depressio...   \n",
       "4  add/adhd bipolar disorder depression insomnia ...   \n",
       "\n",
       "                     positive_effects  \\\n",
       "0       creative euphoria focus happy   \n",
       "1  body high euphoria happy uplifting   \n",
       "2    creative euphoria happy relaxing   \n",
       "3      creative euphoria giggly happy   \n",
       "4               euphoria happy sleepy   \n",
       "\n",
       "                                      flavours  avg_rating  num_ratings  \n",
       "0                    citrus fruity lemon sweet         4.6           38  \n",
       "1  chemical chocolate coffee diesel pine sweet         4.6          339  \n",
       "2                           berry cherry sweet         4.5          110  \n",
       "3                           citrus lemon sweet         4.5           55  \n",
       "4                  berry blueberry sweet woody         4.5           95  "
      ]
     },
     "execution_count": 4,
     "metadata": {},
     "output_type": "execute_result"
    }
   ],
   "source": [
    "content_db.head()"
   ]
  },
  {
   "cell_type": "markdown",
   "id": "41761c67-e370-4ceb-be4e-7d7f151945d9",
   "metadata": {},
   "source": [
    "Data for service"
   ]
  },
  {
   "cell_type": "code",
   "execution_count": 189,
   "id": "c57b2e4c-effc-4d57-829f-4efade50d648",
   "metadata": {},
   "outputs": [],
   "source": [
    "def add_url(postfix):\n",
    "    url = os.path.join('https://www.allbud.com' + content_db_full.iloc[0]['link'])\n",
    "\n",
    "content_db_full = pd.read_csv(os.path.join(app_files_dir, 'content_db_df.csv'))\n",
    "content_db_full['url'] = content_db_full['link'].apply(lambda x: 'https://www.allbud.com' + x)\n",
    "content_db = content_db_full[['url', 'item_name']].merge(content_db, on='item_name')\n",
    "\n",
    "content_db.to_csv(os.path.join(app_files_dir, 'api_db.csv'), index=False)"
   ]
  },
  {
   "cell_type": "code",
   "execution_count": 192,
   "id": "449a4d04-6c93-4a09-869d-caba390373ee",
   "metadata": {},
   "outputs": [
    {
     "data": {
      "text/plain": [
       "[{'title': 'Cherry Pie',\n",
       "  'url': 'https://www.allbud.com/marijuana-strains/indica-dominant-hybrid/cherry-pie',\n",
       "  'explanation': 'Indica Dominant|80% Indica/20% Sativa: creative euphoria happy relaxing',\n",
       "  'flavours': 'berry cherry sweet'},\n",
       " {'title': 'Amnesia Haze',\n",
       "  'url': 'https://www.allbud.com/marijuana-strains/sativa-dominant-hybrid/amnesia-haze',\n",
       "  'explanation': 'Sativa Dominant|80% Sativa/20% Indica: creative euphoria giggly happy',\n",
       "  'flavours': 'citrus lemon sweet'},\n",
       " {'title': 'Blueberry',\n",
       "  'url': 'https://www.allbud.com/marijuana-strains/indica-dominant-hybrid/blueberry',\n",
       "  'explanation': 'Indica Dominant|80% Indica/20% Sativa: euphoria happy sleepy',\n",
       "  'flavours': 'berry blueberry sweet woody'}]"
      ]
     },
     "execution_count": 192,
     "metadata": {},
     "output_type": "execute_result"
    }
   ],
   "source": [
    "def get_candidates(content_names_list):\n",
    "    res = [\n",
    "        {\n",
    "            'title': row['title'], 'url': row['url'],\n",
    "            'explanation': f\"{row['tags']}: {row['positive_effects']}\",\n",
    "            'flavours': row['flavours']\n",
    "        }\n",
    "        for _, row in content_db[content_db['item_name'].isin(content_names_list)].iterrows()\n",
    "    ]\n",
    "    return res\n",
    "\n",
    "content_names_list = ['blueberry', 'amnesia-haze', 'cherry-pie']\n",
    "\n",
    "candidates = get_candidates(content_names_list)\n",
    "\n",
    "candidates"
   ]
  },
  {
   "cell_type": "code",
   "execution_count": null,
   "id": "133efd3a-1b70-434a-ab84-c1a280a8b5c0",
   "metadata": {},
   "outputs": [],
   "source": []
  },
  {
   "cell_type": "code",
   "execution_count": 201,
   "id": "a2fb4a73-4fe1-4baa-b57c-f1167c1481c4",
   "metadata": {},
   "outputs": [
    {
     "name": "stdout",
     "output_type": "stream",
     "text": [
      "connecting OpenAI...\n",
      "Blueberry, Amnesia Haze\n"
     ]
    }
   ],
   "source": [
    "import json\n",
    "import datetime\n",
    "import hashlib\n",
    "import random\n",
    "\n",
    "import numpy as np\n",
    "import backoff\n",
    "import openai\n",
    "from openai import OpenAI\n",
    "\n",
    "\n",
    "client = OpenAI(\n",
    "    api_key=os.environ[\"OPENAI_API_KEY\"]\n",
    ")\n",
    "\n",
    "\n",
    "@backoff.on_exception(backoff.expo, openai.APIError)\n",
    "@backoff.on_exception(backoff.expo, openai.RateLimitError)\n",
    "@backoff.on_exception(backoff.expo,openai.Timeout)\n",
    "@backoff.on_exception(backoff.expo, RuntimeError)\n",
    "def gpt_query(gpt_params, verbose: bool = False, avoid_fuckup: bool = False) -> dict:\n",
    "    print('connecting OpenAI...')\n",
    "    if verbose:\n",
    "        print(gpt_params[\"messages\"][1][\"content\"])\n",
    "    response = client.chat.completions.create(\n",
    "        **gpt_params\n",
    "    )\n",
    "    gpt_response = response.choices[0].message.content\n",
    "    if avoid_fuckup:\n",
    "        if '[' in gpt_response or '?' in gpt_response or '{' in gpt_response:\n",
    "            raise RuntimeError\n",
    "    res = {'recs': gpt_response}\n",
    "    res.update({'prompt_tokens': response.usage.completion_tokens, 'prompt_tokens': response.usage.prompt_tokens, 'total_tokens': response.usage.total_tokens})\n",
    "    seed_phrase = f'{str(datetime.datetime.now().timestamp())}{gpt_response}'\n",
    "    generation_id = str(hashlib.md5(seed_phrase.encode('utf-8')).hexdigest())[:12]\n",
    "    res.update({'id': generation_id})\n",
    "    return res\n",
    "\n",
    "def random_shuffle(input_list):\n",
    "    \"\"\"\n",
    "    my_list = ['apple', 'banana', 'cherry', 'date', 'fig']\n",
    "    random_shuffle(my_list)\n",
    "    \"\"\"\n",
    "    res = random.shuffle(input_list)\n",
    "    return ', '.join(input_list)\n",
    "\n",
    "def promt_generation(candidates):\n",
    "  # TODO: use jinja2\n",
    "  flavours_list = ['sweet', 'citrus', 'fruity', 'spicy', 'berry', 'pine', 'herbal', 'sour', 'lemon', 'woody', 'grape', 'tropical', 'diesel', 'skunky', 'nutty', 'blueberry', 'vanilla', 'creamy', 'candy', 'cherry']\n",
    "  reliefs_list = ['depression', 'chronic pain', 'stress', 'insomnia', 'anxiety', 'fatigue', 'nausea', 'migraines', 'muscle spasms', 'headaches', 'ptsd', 'loss of appetite', 'add/adhd', 'inflammation', 'arthritis', 'bipolar disorder', 'cramps', 'pms', 'fibromyalgia', 'gastrointestinal disorder']\n",
    "  promt = f\"\"\"\n",
    "      generate 5 search query based on strain description below. All queries should be 3-5 words long. Do not include strain name.\n",
    "      Do not add word \"strain\".\n",
    "      Base query on flavours (not connstrained with this list): {random_shuffle(flavours_list)}\n",
    "      reliefs: {random_shuffle(reliefs_list)}\n",
    "      effects (body and mind)\n",
    "      {candidates}\n",
    "      Queries:\n",
    "  \"\"\"\n",
    "  return promt\n",
    "\n",
    "def promt_generation_2(candidates, query):\n",
    "  promt = f\"\"\"\n",
    "      Below you can find items with description in format `title: description`\n",
    "      {candidates}\n",
    "      Rerank items and return reranked item ids base on user query. Return only reranked items, comma-separate\n",
    "      Do not add any explanation, just result\n",
    "      User query: {query}\n",
    "      expected result: [title, title, title]\n",
    "      reranked:\n",
    "  \"\"\"\n",
    "  return promt\n",
    "\n",
    "def generate(gpt_prompt, verbose=False):\n",
    "    gpt_params = {\n",
    "        'model': 'gpt-3.5-turbo',\n",
    "        'max_tokens': 500,\n",
    "        'temperature': 0.7,\n",
    "        'top_p': 0.5,\n",
    "        'frequency_penalty': 0.5,\n",
    "    }\n",
    "    # gpt_promt = promt_generation(gen_candadates(db, ids))\n",
    "    if verbose:\n",
    "        print(gpt_promt)\n",
    "    messages = [\n",
    "        {\n",
    "          \"role\": \"system\",\n",
    "          \"content\": \"You are a helpful assistant for medicine shopping\",\n",
    "        },\n",
    "        {\n",
    "          \"role\": \"user\",\n",
    "          \"content\": gpt_prompt,\n",
    "        },\n",
    "    ]\n",
    "    gpt_params.update({'messages': messages})\n",
    "    res = gpt_query(gpt_params, verbose=False)\n",
    "    return res\n",
    "\n",
    "\n",
    "def load_reviews(reviews_file_path):\n",
    "    with open(reviews_file_path, 'r') as f:\n",
    "        reviews_dict = json.load(f)\n",
    "    return reviews_dict\n",
    "\n",
    "def get_item_reviews(item_name, reviews_dict):\n",
    "    reviews = [i['review'].replace('\\n', ' ') for i in reviews_dict if i['item_name'] == item_name]\n",
    "    return reviews\n",
    "\n",
    "def aggregate_reviews(content_df, reviews_dict):\n",
    "    res = {}\n",
    "    for name in content_df['item_name'].unique():\n",
    "      res[name] = {'reviews': ''.join(get_item_reviews(name, reviews_dict))}\n",
    "    return res\n",
    "\n",
    "def test_generation(reviews_agregated, random_strain):\n",
    "    prompt = promt_generation(reviews_agregated[random_strain]['reviews'])\n",
    "    generated_result = generate(prompt)\n",
    "    print(generated_result['recs'])\n",
    "    print()\n",
    "    reviews_agregated[random_strain]['reviews']\n",
    "\n",
    "def test_reranking(candidates, query):\n",
    "    [f\"{i['title']}: {i['explanation']}, {i['flavours']}\" for i in candidates]\n",
    "    prompt = promt_generation_2(candidates, query)\n",
    "    generated_result = generate(prompt)\n",
    "    print(generated_result['recs'])\n",
    "\n",
    "# reviews_dict = load_reviews(os.path.join(app_files_dir, 'content_reviews_green_bro.json'))\n",
    "# reviews_agregated = aggregate_reviews(content_db, reviews_dict)\n",
    "# # print(reviews_agregated['fire-og']['reviews'])\n",
    "\n",
    "# random_strain = np.random.choice(list(reviews_agregated.keys()))\n",
    "# test_generation(reviews_agregated, random_strain)\n",
    "\n",
    "test_reranking(candidates, 'avoid cherry')"
   ]
  },
  {
   "cell_type": "code",
   "execution_count": 203,
   "id": "d0c17d6d-d878-44b0-8a81-eb38cc213485",
   "metadata": {},
   "outputs": [
    {
     "ename": "IndexError",
     "evalue": "list index out of range",
     "output_type": "error",
     "traceback": [
      "\u001b[0;31m---------------------------------------------------------------------------\u001b[0m",
      "\u001b[0;31mIndexError\u001b[0m                                Traceback (most recent call last)",
      "Cell \u001b[0;32mIn[203], line 2\u001b[0m\n\u001b[1;32m      1\u001b[0m a \u001b[38;5;241m=\u001b[39m []\n\u001b[0;32m----> 2\u001b[0m \u001b[43ma\u001b[49m\u001b[43m[\u001b[49m\u001b[38;5;241;43m0\u001b[39;49m\u001b[43m]\u001b[49m\n",
      "\u001b[0;31mIndexError\u001b[0m: list index out of range"
     ]
    }
   ],
   "source": [
    "a = []\n",
    "a[0]"
   ]
  },
  {
   "cell_type": "markdown",
   "id": "9fec00f7-227b-4431-8b14-b446faf7a0aa",
   "metadata": {},
   "source": [
    "Search index"
   ]
  },
  {
   "cell_type": "code",
   "execution_count": 71,
   "id": "1a150c85-1a71-4181-89ea-99b34a3f9843",
   "metadata": {},
   "outputs": [
    {
     "name": "stdout",
     "output_type": "stream",
     "text": [
      "casey-jones\n"
     ]
    },
    {
     "data": {
      "text/plain": [
       "{'reviews': \" First off, an elevation of my mood, a little bit of rejuvenation to my body, and even my thoughts, I noticed quickly while smoking CJ. I was feeling a little sluggish before I smoked this strain. No more. The taste has some earthiness to it, but mostly that sweet citrus taste. If you're fond of sativas I would recommend trying CJ. Smoke this pot.  I got an eighth of Casey Jones and it kicks some serious backside. I felt very refreshed taking a puff of this light green, fuzzy bud and got notes of tangerine, citrus and even a bit of watermelon. I highly recommend Casey Jones as a daytime strain to inspire creativity and socialization.  I didn't have the pleasure of growing her, but I bought a half oz of 'b' buds and squished it. What a sweet strain. Sweet as in sugar sweet. It came out of the press as foam mostly it was so sugary. Then I burned it 1 time and it turned Into beautiful thick amber plastic. For a low-level thc strain, I was very satisfied. Ty  This strain is phenomenal,...all sativa fanatics MUST TRY this! Grade A+!  I have moderate depression and anxiety, and love sativa's, but this one made me anxious. I can take most sativa's, but not this one. The smell was bad too.  Best strain i ever smoked! The taste is so sweet and full of surpises! Buy on site  Great wake and babe Sativa. The Agent Orange wasn’t that great. It’s very smooth with not a big taste but an absolutely amazing body high you expect from a Sativa.  Great at soothing the frazzled mind and nerves at the end of the days work. Interesting unique taste, like licorice and cloves; don’t quote me on this but I didn’t notice anything citrus, blue, or purple in this strain. I’d buy this again, I would get at least an ounce if the price was right. This was for sale at the downtown dispensary by the university of Arizona,I was only able to get a few grams at the time on a generous first time patient discount. Thanks downtown dispensary!!  Purchased at Thrive disp. Anna il. From Wellness Group Pharms. I was hesitant to buy, do to previous purchase from WGP. Casey Jones : uplifting, focused, happy, a good feel good and enjoy the day smoke. Way to go Wellness, the last 3, Chocolope ( 👍 👍 👍) , Casey Jones ( 👍 👍 ) .  Just finished some CJ....wow such a great sativa high. Smooth,citrusy taste You've hit it again UM420 good job. \"}"
      ]
     },
     "execution_count": 71,
     "metadata": {},
     "output_type": "execute_result"
    }
   ],
   "source": [
    "key = list(reviews_agregated.keys())[0]\n",
    "print(key)\n",
    "reviews_agregated[key]"
   ]
  },
  {
   "cell_type": "markdown",
   "id": "d4991fde-3071-4994-b7b0-dedced35d4a8",
   "metadata": {},
   "source": [
    "Generate ground trurh"
   ]
  },
  {
   "cell_type": "code",
   "execution_count": 66,
   "id": "0b9e9bef-46e7-4702-847e-194248a8ee7a",
   "metadata": {},
   "outputs": [
    {
     "data": {
      "text/plain": [
       "{'reviews': \" My first time with the Chapo, was a multi-high experience the flavor, omg…. The throat on a few hits reminded me of the drainage you’d get from decent quality “coke”, very sweet head high, spurts of clear thought, energy, then my favorite “Couch Lock”, and the world for now ceases.  Smoked a pre-roll of el chapo OG and fucking hell my eyes got sooo heavy and got baked asf!  I have a chronic disease this indica strain is a cure all fo me and I’m a long time smoker!!  I really enjoy this strains ability to reduce pain.  El Chapo OG Kush (Face/Off OG x SFV OG x OG Kush) by Boss Status Genetics/Cali Buds.Average Cannabinoid Content: THC: 10-23%CBD: 0.00-0.50%Terpene Profile:Myrcene, Limonene, Pinene, beta-Caryophyllene Medicinal Benefits include:pain relief gastrointestinal issues nausea relief insomnia relief relaxation appetite stimulationdepression relief  Superb! The best strain I've had in 2019 except that Presidential Kush. Grade A!  El Chapo OG (AKA: Shorty) is an Indica. The tight lime green buds have burnt orange hairs & frosty layer of fine crystal trichomes. The scent & flavor is a earthy, citrus, & pine. The effects made me happy, relaxed, lazy, & sleepy. Good night time medicine. Medicate On :)  This is an unbeatable strain for me, considering I am a strong sativa lover. I've been appreciating cannabis for ten years and this is by far the best strain out there.HIGHLY RECCOMENDED TO TRY AT LEAST ONCE.#England  Best strain ever for pain!!!!  Very good strain straight fire \",\n",
       " 'queries': {'recs': '1. Sweet citrus pain relief\\n2. Relaxing earthy aroma\\n3. Energy and relaxation blend\\n4. Heavy eyes, clear thoughts\\n5. Best strain for pain',\n",
       "  'prompt_tokens': 571,\n",
       "  'total_tokens': 607,\n",
       "  'id': '757dc25ca3e5'}}"
      ]
     },
     "execution_count": 66,
     "metadata": {},
     "output_type": "execute_result"
    }
   ],
   "source": [
    "from IPython.display import clear_output\n",
    "\n",
    "def generate_and_save_ground_truth(input_dict, output_filename):\n",
    "    for i in input_dict:\n",
    "      reviews = input_dict[i]['reviews']\n",
    "      prompt = promt_generation(reviews)\n",
    "      input_dict[i]['queries'] = generate(prompt)\n",
    "    with open(output_filename, 'w') as f:\n",
    "      json.dump(input_dict, f)\n",
    "    print('Data generated')\n",
    "    return input_dict\n",
    "\n",
    "clear_output()\n",
    "output_filename = os.path.join(app_files_dir,'content_queries.json')\n",
    "user_queries_dict = generate_and_save_ground_truth(reviews_agregated, output_filename)\n",
    "user_queries_dict[random_strain]"
   ]
  },
  {
   "cell_type": "code",
   "execution_count": null,
   "id": "4c10b469-6ba4-4bb5-98ae-1a9467e8c7af",
   "metadata": {},
   "outputs": [],
   "source": [
    "\n",
    "output_file_path = os.path.join(app_files_dir,'ground_truth.json')"
   ]
  },
  {
   "cell_type": "code",
   "execution_count": 68,
   "id": "280af815-1a63-4efe-bcba-6c1a885db33b",
   "metadata": {},
   "outputs": [
    {
     "name": "stdout",
     "output_type": "stream",
     "text": [
      "1. Fruity pain relief options\n",
      "2. Energizing headache remedy\n",
      "3. Relaxing stress relief choices\n",
      "4. Uplifting mood support picks\n",
      "5. Cerebral anxiety solutions\n"
     ]
    }
   ],
   "source": [
    "#queries_dict = load_reviews(output_filename)\n",
    "random_strain = np.random.choice(list(reviews_agregated.keys()))\n",
    "\n",
    "print(queries_dict[random_strain]['queries']['recs'])"
   ]
  },
  {
   "cell_type": "code",
   "execution_count": 54,
   "id": "f6d1eb1a-d154-4dcc-9d63-765040f3e414",
   "metadata": {},
   "outputs": [
    {
     "name": "stdout",
     "output_type": "stream",
     "text": [
      "Num generates: 1455\n",
      "data saved to /Users/username/PycharmProjects/leaf-bro/data/pipelines-data/ground_truth.json\n"
     ]
    }
   ],
   "source": [
    "import re\n",
    "\n",
    "def clean_text(text):\n",
    "    cleaned_text = re.sub(r'^\\d+\\.\\s*', '', text)\n",
    "    return cleaned_text\n",
    "\n",
    "def prepare_ground_truth(queries_dict, data_path):\n",
    "    ground_truth = []\n",
    "    \n",
    "    for k in queries_dict:\n",
    "        queries = queries_dict[k]['queries']['recs'].split('\\n')\n",
    "        ground_truth += [{'answer': k, 'query': clean_text(q)} for q in queries]\n",
    "    print('Num generates: %d' % len(ground_truth))\n",
    "    with open(data_path, 'w') as f:\n",
    "      json.dump(ground_truth, f)\n",
    "    print('data saved to %s' % data_path)\n",
    "    return ground_truth\n",
    "output_file_path = os.path.join(app_files_dir,'ground_truth.json')\n",
    "ground_truth = prepare_ground_truth(queries_dict, output_file_path)"
   ]
  },
  {
   "cell_type": "code",
   "execution_count": 56,
   "id": "7740dc4e-8b44-431d-a06b-4e62a0a2e371",
   "metadata": {},
   "outputs": [
    {
     "name": "stdout",
     "output_type": "stream",
     "text": [
      "{'answer': 'gorilla-cookies', 'query': 'Citrus herbal pain relief'}\n"
     ]
    },
    {
     "data": {
      "text/plain": [
       "\" Great high that is good for a night downtown that lasts for hours  This one hits me more like an Indica than a Sativa despite it being Sativa leaning. I get the heavy couch-locking feeling of the Gorilla Glue with the euphoric aspect (mentally and physically) from the GSC, along with that nice head buzz. While remaining clear-headed, I do find myself struggling to keep my eyes open after a good few dabs.  Awesome strain I was bouncing around getting things done Happy and care free Pretty dumb to be honest but didnt care  After consuming gorilla cookies thc oil in a vape device, numerous times, as a medical & recently recreational user, gorilla cookies is an extremely high sativa dominant smoke that in my case gives me plenty of nervous energy but no focus to get things done! Slight couch lock that's easily overcome for most, I personally didn't like the restless energy & feelings of anxiety gorilla cookies always produces. Your experience may differ!I didn't feel any other benefits such as pain relief & it interfered with my insomniac medical needs to the point I needed at least double to triple a high indica strain to calm me back down physically. For those with any kind of heart or similar concerns, this one might better be skipped.  One of my favorite strains. It really spoils me when I can get it as it really works well for me. Buds very hard and thick. A small bud will really go a long way.2 to 3 hits is usually sufficient to get you well on your way. I use to lean toward the diesels until they got diluted and I found this one. Now this one is my go to. One of the smoothest highs nd long lasting. Not for the novice.  What a strain, two of my favourite strains together forming this delicious good looking flower. its effects are more sativa but definetly kicking a very good hybrid .with powerful couchlocking effects reminiscent of the gorilla glue #4 and the daze trippy side from the GSC. buds look so dank, a great dark olive tone with crazy aroma, again reminding me the gorilla glue and the gsc. its flavors are very similar too, i can definitely taste the rubber, nutty, herbal taste of the gorilla glue but with hints of mint cookies/dough. a delicious flavor. i love its effects, man this is an all day strain for sure. more sativa than indica but it is a hybrid for sure, youll feel both effects believe me. straight fire.  Great strain, helps with my back pain and is for an experienced smoker so be careful  Like The strain I’m not really a sativa guy lean more to indica but this helps a lot with the pain in my back and it’s a good relaxing head I slept for four hours after it wore off so it does have a little Indica lovely bud  Awsom, shit, I'm having a hard time thinking, but I feel very intelligent.  Good strong strain. Made me laugh at everything \""
      ]
     },
     "execution_count": 56,
     "metadata": {},
     "output_type": "execute_result"
    }
   ],
   "source": [
    "import numpy as np\n",
    "\n",
    "random_id = np.random.randint(0, len(ground_truth))\n",
    "print(ground_truth[random_id])\n",
    "\n",
    "queries_dict[ground_truth[random_id]['answer']]['reviews']"
   ]
  },
  {
   "cell_type": "code",
   "execution_count": null,
   "id": "a361a326-9b43-4682-bf7d-a3b98ca3dae4",
   "metadata": {},
   "outputs": [],
   "source": []
  },
  {
   "cell_type": "markdown",
   "id": "91a13477-569a-4af8-970d-b10149a5a734",
   "metadata": {},
   "source": [
    "# Project\n",
    "\n",
    "find a strain and motivate user to buy it"
   ]
  },
  {
   "cell_type": "code",
   "execution_count": 76,
   "id": "8906fdbe-7ed4-490a-9143-6b9ae9490e4b",
   "metadata": {},
   "outputs": [
    {
     "name": "stdout",
     "output_type": "stream",
     "text": [
      "291 291\n"
     ]
    }
   ],
   "source": [
    "def prepare_catalog(reviews_agregated):\n",
    "    index = []\n",
    "    corpus = []\n",
    "    for key, content in reviews_agregated.items():\n",
    "        index.append(key)\n",
    "        corpus.append(content['reviews'])\n",
    "    return index, corpus\n",
    "index, corpus = prepare_catalog(reviews_agregated)\n",
    "print(len(index), len(corpus))"
   ]
  },
  {
   "cell_type": "code",
   "execution_count": 87,
   "id": "5dc72435-1504-4d5f-b2b0-b90176e48ff9",
   "metadata": {},
   "outputs": [
    {
     "name": "stdout",
     "output_type": "stream",
     "text": [
      "(291, 768) 291\n"
     ]
    }
   ],
   "source": [
    "models_dir = os.path.join(app_files_dir, 'models')\n",
    "\n",
    "index_file_path = os.path.join(models_dir, 'embeds_index.json')\n",
    "embeds_file_path = os.path.join(models_dir, 'embeds.npy')\n",
    "with open(index_file_path, 'r') as f:\n",
    "    index = json.load(f)\n",
    "embeds = np.load(embeds_file_path)\n",
    "print(embeds.shape, len(index))"
   ]
  },
  {
   "cell_type": "code",
   "execution_count": 88,
   "id": "82b46730-4b3c-47b6-9994-582cd0742049",
   "metadata": {},
   "outputs": [
    {
     "name": "stderr",
     "output_type": "stream",
     "text": [
      "/Users/username/.pyenv/versions/3.10.13/envs/llmops-env/lib/python3.10/site-packages/threadpoolctl.py:1214: RuntimeWarning: \n",
      "Found Intel OpenMP ('libiomp') and LLVM OpenMP ('libomp') loaded at\n",
      "the same time. Both libraries are known to be incompatible and this\n",
      "can cause random crashes or deadlocks on Linux when loaded in the\n",
      "same Python program.\n",
      "Using threadpoolctl may cause crashes or deadlocks. For more\n",
      "information and possible workarounds, please see\n",
      "    https://github.com/joblib/threadpoolctl/blob/master/multiple_openmp.md\n",
      "\n",
      "  warnings.warn(msg, RuntimeWarning)\n"
     ]
    },
    {
     "name": "stdout",
     "output_type": "stream",
     "text": [
      "pretrained model loading...\n",
      "model loadind done\n"
     ]
    },
    {
     "data": {
      "text/plain": [
       "SentenceTransformer(\n",
       "  (0): Transformer({'max_seq_length': 512, 'do_lower_case': False}) with Transformer model: DistilBertModel \n",
       "  (1): Pooling({'word_embedding_dimension': 768, 'pooling_mode_cls_token': False, 'pooling_mode_mean_tokens': True, 'pooling_mode_max_tokens': False, 'pooling_mode_mean_sqrt_len_tokens': False})\n",
       "  (2): Normalize()\n",
       ")"
      ]
     },
     "execution_count": 88,
     "metadata": {},
     "output_type": "execute_result"
    }
   ],
   "source": [
    "def get_pytorch_model(models_dir, model_name='multi-qa-distilbert-cos-v1'):\n",
    "  from sentence_transformers import SentenceTransformer\n",
    "\n",
    "  model_path = os.path.join(models_dir, model_name)\n",
    "\n",
    "  if not os.path.exists(model_path):\n",
    "      print('huggingface model loading...')\n",
    "      embedder = SentenceTransformer(model_name)\n",
    "      embedder.save(model_path)\n",
    "  else:\n",
    "      print('pretrained model loading...')\n",
    "      embedder = SentenceTransformer(model_name_or_path=model_path)\n",
    "  print('model loadind done')\n",
    "\n",
    "  return embedder\n",
    "\n",
    "class VectorSearchEngine:\n",
    "    def __init__(self, documents, embeddings):\n",
    "        self.documents = documents\n",
    "        self.embeddings = embeddings\n",
    "\n",
    "    def search(self, v_query, num_results=10):\n",
    "        scores = self.embeddings.dot(v_query)\n",
    "        idx = np.argsort(-scores)[:num_results]\n",
    "        return [{'score': scores[i], 'doc': self.documents[i]} for i in idx]\n",
    "\n",
    "embedder = get_pytorch_model(models_dir)\n",
    "embedder"
   ]
  },
  {
   "cell_type": "code",
   "execution_count": 89,
   "id": "9f72ed93-bc19-4e55-adc2-610b36af0701",
   "metadata": {},
   "outputs": [],
   "source": [
    "search_engine = VectorSearchEngine(documents=index, embeddings=embeds)\n"
   ]
  },
  {
   "cell_type": "code",
   "execution_count": 91,
   "id": "17776ea6-c15d-46ab-950b-05c52e148b72",
   "metadata": {},
   "outputs": [
    {
     "data": {
      "text/plain": [
       "[{'score': 0.4901401, 'doc': 'lemon-tree'},\n",
       " {'score': 0.47702503, 'doc': 'golden-lemons'},\n",
       " {'score': 0.47451043, 'doc': 'hardcore-og'},\n",
       " {'score': 0.45465428, 'doc': 'orange-crush'},\n",
       " {'score': 0.4432276, 'doc': 'skywalker-og'}]"
      ]
     },
     "execution_count": 91,
     "metadata": {},
     "output_type": "execute_result"
    }
   ],
   "source": [
    "user_question = 'citrus relaxation'\n",
    "\n",
    "v = embedder.encode(user_question)\n",
    "\n",
    "search_engine.search(v, num_results=5)"
   ]
  },
  {
   "cell_type": "code",
   "execution_count": 129,
   "id": "3b41cf59-d1b0-4e4e-a0a4-e088c24c8bea",
   "metadata": {},
   "outputs": [
    {
     "name": "stdout",
     "output_type": "stream",
     "text": [
      "39 100\n"
     ]
    }
   ],
   "source": [
    "random_numbers = np.random.choice(np.arange(0, len(ground_truth) - 1), size=100, replace=False)\n",
    "res = []\n",
    "for random_id in random_numbers:\n",
    "    origin = ground_truth[random_id]['answer']\n",
    "    query = ground_truth[random_id]['query']\n",
    "    v = embedder.encode(query)\n",
    "    res.append( 1 if sum(origin==i['doc'] for i in search_engine.search(v, num_results=30)) > 0 else 0)\n",
    "\n",
    "print(sum(res), len(res))"
   ]
  },
  {
   "cell_type": "code",
   "execution_count": 131,
   "id": "7ab03784-bf46-499e-8af4-2d0a979261c7",
   "metadata": {},
   "outputs": [
    {
     "name": "stderr",
     "output_type": "stream",
     "text": [
      "/var/folders/6_/c5005cfj5_s0k2v7t69q1qsh0000gn/T/ipykernel_39617/649090524.py:1: DeprecationWarning: Calling nonzero on 0d arrays is deprecated, as it behaves surprisingly. Use `atleast_1d(cond).nonzero()` if the old behavior was intended. If the context of this warning is of the form `arr[nonzero(cond)]`, just use `arr[cond]`.\n",
      "  [ground_truth[i] for i in random_numbers[np.where(res==1)]]\n"
     ]
    },
    {
     "data": {
      "text/plain": [
       "[]"
      ]
     },
     "execution_count": 131,
     "metadata": {},
     "output_type": "execute_result"
    }
   ],
   "source": [
    "[ground_truth[i] for i in random_numbers[np.where(res==1)]]\n"
   ]
  },
  {
   "cell_type": "code",
   "execution_count": 166,
   "id": "24672f1a-5059-433b-9c7b-d37a09151076",
   "metadata": {},
   "outputs": [],
   "source": [
    "def eval_hitrate(golden_dataset):\n",
    "    res = []\n",
    "    for entry in golden_dataset:\n",
    "        v = embedder.encode(entry['query'])\n",
    "        res.append( 1 if sum(entry['origin']==i['doc'] for i in search_engine.search(v, num_results=30)) > 0 else 0)\n",
    "    print('Hit rate: %.3f, num entries: %d' % (sum(res)/len(res), len(res)))\n",
    "\n",
    "def generate_golden_set():\n",
    "    items_list = list(set([i['answer'] for i in ground_truth]))\n",
    "    random.shuffle(items_list)\n",
    "    random.shuffle(ground_truth)\n",
    "    result = []\n",
    "    test_queries = []\n",
    "    for i in items_list[:100]:\n",
    "        result.append(i)\n",
    "        test_queries.append([j['query'] for j in ground_truth if j['answer']==i][0])\n",
    "    golden_dataset = [{'origin': origin, 'query': query} for origin, query in zip(result, test_queries)]\n",
    "    return golden_dataset\n",
    "\n",
    "data_path = os.path.join(app_files_dir, 'golden_dataset.json')\n",
    "golden_dataset = [{'origin': origin, 'query': query} for origin, query in zip(result, test_queries)]\n",
    "with open(data_path, 'w') as f:\n",
    "  json.dump(golden_dataset, f)"
   ]
  },
  {
   "cell_type": "code",
   "execution_count": 160,
   "id": "c8139194-4da8-4cc7-b38c-ec66eee8e492",
   "metadata": {},
   "outputs": [
    {
     "data": {
      "text/plain": [
       "['alaskan-thunder-fuck',\n",
       " 'key-lime-pie',\n",
       " 'la-confidential',\n",
       " 'grape-pie',\n",
       " 'monster-cookies',\n",
       " 'white-og',\n",
       " 'purple-punch',\n",
       " 'island-sweet-skunk',\n",
       " 'gobbstopper',\n",
       " 'gelato-cake',\n",
       " 'white-widow',\n",
       " 'chocolate-diesel',\n",
       " 'lavender-jones',\n",
       " 'sour-berry',\n",
       " '101-headband',\n",
       " 'super-boof',\n",
       " 'sfv-og',\n",
       " 'cherry-pie',\n",
       " '101-headband',\n",
       " 'chocolate-diesel',\n",
       " 'kosher-kush',\n",
       " 'granddaddy-purple',\n",
       " 'master-kush',\n",
       " 'zoap',\n",
       " 'papaya-cake',\n",
       " 'tahoe-og',\n",
       " 'sour-tangie',\n",
       " 'lemon-skunk',\n",
       " 'slurricane',\n",
       " 'zkittlez-cake']"
      ]
     },
     "execution_count": 160,
     "metadata": {},
     "output_type": "execute_result"
    }
   ],
   "source": [
    "[i['answer'] for i in np.array(ground_truth)[np.where(np.array(res)==1)]]"
   ]
  },
  {
   "cell_type": "code",
   "execution_count": 162,
   "id": "c56dedb4-65b5-4cd8-8864-44de0dfd124e",
   "metadata": {},
   "outputs": [],
   "source": [
    "\n"
   ]
  },
  {
   "cell_type": "code",
   "execution_count": 163,
   "id": "71970db3-222c-48b5-82e6-548b1ee540a4",
   "metadata": {},
   "outputs": [],
   "source": [
    "# queries_dict['skywalker-og']['reviews']"
   ]
  },
  {
   "cell_type": "code",
   "execution_count": null,
   "id": "59a4fdc4-da51-44ed-a2c0-7294fd3fc612",
   "metadata": {},
   "outputs": [],
   "source": []
  }
 ],
 "metadata": {
  "kernelspec": {
   "display_name": "Python 3 (ipykernel)",
   "language": "python",
   "name": "python3"
  },
  "language_info": {
   "codemirror_mode": {
    "name": "ipython",
    "version": 3
   },
   "file_extension": ".py",
   "mimetype": "text/x-python",
   "name": "python",
   "nbconvert_exporter": "python",
   "pygments_lexer": "ipython3",
   "version": "3.10.13"
  }
 },
 "nbformat": 4,
 "nbformat_minor": 5
}
