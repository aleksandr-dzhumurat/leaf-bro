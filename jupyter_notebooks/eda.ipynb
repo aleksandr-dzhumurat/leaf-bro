{
 "cells": [
  {
   "cell_type": "code",
   "execution_count": 1,
   "id": "27ea6454-937c-4711-ad65-bbd8981935b7",
   "metadata": {},
   "outputs": [
    {
     "data": {
      "text/plain": [
       "True"
      ]
     },
     "execution_count": 1,
     "metadata": {},
     "output_type": "execute_result"
    }
   ],
   "source": [
    "from dotenv import load_dotenv\n",
    "from elasticsearch import Elasticsearch\n",
    "\n",
    "es_client = Elasticsearch('http://localhost:9200')\n",
    "\n",
    "\n",
    "# Load environment variables from the .env file\n",
    "load_dotenv()"
   ]
  },
  {
   "cell_type": "code",
   "execution_count": 15,
   "id": "882052e5-49c0-42ef-8974-5ad74a32a901",
   "metadata": {},
   "outputs": [
    {
     "name": "stdout",
     "output_type": "stream",
     "text": [
      "dict_keys(['title', 'tags', 'relief', 'positive_effects', 'flavours', 'avg_rating', 'num_ratings'])\n",
      "\n",
      "[{0.9979122: {'title': 'White Widow', 'tags': 'Sativa Dominant|60% Sativa/40% Indica', 'relief': 'bipolar disorder chronic pain depression fatigue headaches migraines muscle spasms ptsd', 'positive_effects': 'creative euphoria happy uplifting', 'flavours': 'dank pine spicy sweet woody', 'avg_rating': 4.4, 'num_ratings': 112}}, {0.9906636: {'title': 'Pink Kush', 'tags': 'Indica Dominant|90% Indica/10% Sativa', 'relief': 'anxiety bipolar disorder chronic pain depression inflammation insomnia loss of appetite migraines ptsd stress', 'positive_effects': 'body high euphoria happy hungry relaxing sleepy', 'flavours': 'berry candy sweet vanilla', 'avg_rating': 4.7, 'num_ratings': 50}}, {0.9890757: {'title': 'Lemon Kush', 'tags': 'Hybrid,|50%/50%', 'relief': 'bipolar disorder chronic pain depression headaches insomnia migraines ptsd stress', 'positive_effects': 'creative euphoria happy relaxing uplifting', 'flavours': 'citrus lemon spicy sweet', 'avg_rating': 4.3, 'num_ratings': 40}}]\n"
     ]
    }
   ],
   "source": [
    "def elastic_search(es_client, query, limit=3, filter=None, random=False):\n",
    "    if random:\n",
    "        search_query = {\n",
    "          \"size\": 10,\n",
    "          \"query\": {\n",
    "            \"function_score\": {\n",
    "              \"functions\": [\n",
    "                {\n",
    "                  \"random_score\": {}\n",
    "                }\n",
    "              ]\n",
    "            }\n",
    "          }\n",
    "        }\n",
    "    else:\n",
    "        search_query = {\n",
    "            \"size\": 5,\n",
    "            \"query\": {\n",
    "                \"bool\": {\n",
    "                    \"must\": {\n",
    "                        \"multi_match\": {\n",
    "                            \"query\": query,\n",
    "                            \"fields\": [\"relief\", \"positive_effects\", \"flavours\"],\n",
    "                            \"type\": \"best_fields\"\n",
    "                        }\n",
    "                    },\n",
    "                    \"filter\": {  # TODO: add filter as parameter\n",
    "                        \"term\": {\n",
    "                            \"category\": \"flower\"\n",
    "                        }\n",
    "                    }\n",
    "                }\n",
    "            }\n",
    "        }\n",
    "    response = es_client.search(index=index_name, body=search_query)\n",
    "    \n",
    "    return response['hits']['hits'][:limit]\n",
    "\n",
    "def pretty(search_results):\n",
    "    result_docs = []\n",
    "    \n",
    "    for hit in search_results:\n",
    "        result_docs.append({hit['_score']: hit['_source']})\n",
    "    return result_docs\n",
    "\n",
    "\n",
    "query = 'Lemon, headache'\n",
    "index_name = \"course-questions\"\n",
    "\n",
    "res = elastic_search(es_client, query, random=True)\n",
    "sample = res[0]['_source']\n",
    "print(sample.keys())\n",
    "print()\n",
    "print(pretty(res))"
   ]
  },
  {
   "cell_type": "code",
   "execution_count": 34,
   "id": "61b88907-f541-40ea-88e1-8aad924028f2",
   "metadata": {},
   "outputs": [
    {
     "name": "stdout",
     "output_type": "stream",
     "text": [
      "['content_reviews_green_bro.json', 'content_green_bro.csv']\n"
     ]
    }
   ],
   "source": [
    "import pandas as pd\n",
    "\n",
    "current_file_dir = os.getcwd()\n",
    "app_files_dir = os.path.join(os.path.dirname(current_file_dir), 'data', 'pipelines-data')\n",
    "\n",
    "print(os.listdir(app_files_dir))\n",
    "\n",
    "res_csv_path = os.path.join(app_files_dir, 'content_green_bro.csv')\n",
    "\n",
    "content_db = pd.read_csv(res_csv_path)"
   ]
  },
  {
   "cell_type": "code",
   "execution_count": 33,
   "id": "a2fb4a73-4fe1-4baa-b57c-f1167c1481c4",
   "metadata": {},
   "outputs": [
    {
     "name": "stdout",
     "output_type": "stream",
     "text": [
      "{'item': '_marijuana-strains_indica-dominant-hybrid_fire-og.html', 'review': \" All I gotta say is, make sure all ya chores are done, cuz it's hitting fast and hard...I don't feel like doing nothing.Very muscle relaxing as well. \", 'item_name': 'fire-og'}\n"
     ]
    }
   ],
   "source": [
    "import json\n",
    "\n",
    "def load_reviews(reviews_file_path):\n",
    "    with open(reviews_file_path, 'r') as f:\n",
    "        reviews_dict = json.load(f)\n",
    "    return reviews_dict\n",
    "\n",
    "reviews_dict = load_reviews(os.path.join(app_files_dir, 'content_reviews_green_bro.json'))\n",
    "print(reviews_dict[0])"
   ]
  },
  {
   "cell_type": "code",
   "execution_count": 32,
   "id": "a361a326-9b43-4682-bf7d-a3b98ca3dae4",
   "metadata": {},
   "outputs": [
    {
     "data": {
      "text/plain": [
       "[\" All I gotta say is, make sure all ya chores are done, cuz it's hitting fast and hard...I don't feel like doing nothing.Very muscle relaxing as well. \",\n",
       " ' Fire OG is classic OG taste meets classic OG feels. At first it’s smells like Skywalker OG, but the taste and feel is calm ride on a cosmic surfboard. Definitely pick it up and keep it stocked up for those evenings you need a little extra kushy cloud vibes. ',\n",
       " ' Was expecting a little more with this one with all the hype around it. Got a nice batch testing 28% thc and 2+ % terps. Dense, dark green buds with the signature small red pistils. Nice coating and glimmer of the trichomes. The taste and smell are in the forest og spectrum. The high comes on quickly with an uplift of some euphoria and a lil energy . Over all I was expecting some more oomph and distinguishability. It’s a nice OG but not up there with the best imho. ',\n",
       " ' Works great for nausea ,appetite and some pain due to cancer...Makes chemo somewhat easier to deal with. ',\n",
       " ' FIRE OG!Yeah baby this is the strain.This perfect balance of sativa/indica hybrid. 30% sativa 70% indica.OG kush X SFV kush.You will be lifted to the clouds of laughter. Only to slowly start floating down like a feather. To a deep floating couch lock.This strain give you the best of both worlds. My favorite!And it definitely deserves the name. 🔥 FIRE OG 🔥 ',\n",
       " ' Very good in all important stats. The Fire OG that I just finished is very good, the taste is very good and the smell is old school and dank. I have been using marijuana for decades and I am still looking for the perfect strain. There are so many good strains that I have used that they all start looking tasting and working the same. Fire OG is some good stuff. Only the very best are part of the OG Kush family and Fire will not let you down. ',\n",
       " \" It was prob my second strain I ever had when I was younger. I don't know what happen but the fire OG that I got when I was a young teen was fucking strong as a bitch. That shit had me lost in the cosmos. I smoked a fire OG strain a few years later, it wasn't even all that but i guess it depends on the growing quality! \",\n",
       " ' This is strong the Sativa is dominating lasting 3 or more hrs. you get it all with this one hit maybe 2 you will be through! ',\n",
       " \" Fire OG is definitely a good smoke. with a nice wood-like flavour reminding you of a campfire. the mid-high THC level of the bud is definitely not meant for beginners, it hits you hard and heavy but then fades into a good sedation leaving you either a little giggly or a little couch locked. its a strain with a really good hit that you need to use wisely, pace yourself with it and it will work you good for you. just remember this smoke is only as good as you are at predicting your limits. if you go over your bodies THC limit you're going to feel it hard with this strain. TLDR the amount of knowledge needed to enjoy this strain is a little higher because of its THC percentage. \",\n",
       " ' Not a strain for beginners. This strain is a GOOD TIME. Like giggling euphoria good. Highly recommended for sex! So many orgasms. Highly recommended for all of this and more! ']"
      ]
     },
     "execution_count": 32,
     "metadata": {},
     "output_type": "execute_result"
    }
   ],
   "source": [
    "def get_item_reviews(item_name):\n",
    "    reviews = [i['review'] for i in reviews_dict if i['item_name'] == item_name]\n",
    "    return reviews\n",
    "\n",
    "get_item_reviews('fire-og')"
   ]
  },
  {
   "cell_type": "code",
   "execution_count": null,
   "id": "c354d583-0092-4de0-be9f-d648b672dcc6",
   "metadata": {},
   "outputs": [],
   "source": []
  }
 ],
 "metadata": {
  "kernelspec": {
   "display_name": "Python 3 (ipykernel)",
   "language": "python",
   "name": "python3"
  },
  "language_info": {
   "codemirror_mode": {
    "name": "ipython",
    "version": 3
   },
   "file_extension": ".py",
   "mimetype": "text/x-python",
   "name": "python",
   "nbconvert_exporter": "python",
   "pygments_lexer": "ipython3",
   "version": "3.10.13"
  }
 },
 "nbformat": 4,
 "nbformat_minor": 5
}
