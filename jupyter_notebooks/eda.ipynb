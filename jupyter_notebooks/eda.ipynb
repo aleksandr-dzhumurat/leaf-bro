{
 "cells": [
  {
   "cell_type": "code",
   "execution_count": 1,
   "id": "27ea6454-937c-4711-ad65-bbd8981935b7",
   "metadata": {},
   "outputs": [
    {
     "data": {
      "text/plain": [
       "True"
      ]
     },
     "execution_count": 1,
     "metadata": {},
     "output_type": "execute_result"
    }
   ],
   "source": [
    "from dotenv import load_dotenv\n",
    "from elasticsearch import Elasticsearch\n",
    "\n",
    "es_client = Elasticsearch('http://localhost:9200')\n",
    "\n",
    "\n",
    "# Load environment variables from the .env file\n",
    "load_dotenv()"
   ]
  },
  {
   "cell_type": "code",
   "execution_count": 15,
   "id": "882052e5-49c0-42ef-8974-5ad74a32a901",
   "metadata": {},
   "outputs": [
    {
     "name": "stdout",
     "output_type": "stream",
     "text": [
      "dict_keys(['title', 'tags', 'relief', 'positive_effects', 'flavours', 'avg_rating', 'num_ratings'])\n",
      "\n",
      "[{0.9979122: {'title': 'White Widow', 'tags': 'Sativa Dominant|60% Sativa/40% Indica', 'relief': 'bipolar disorder chronic pain depression fatigue headaches migraines muscle spasms ptsd', 'positive_effects': 'creative euphoria happy uplifting', 'flavours': 'dank pine spicy sweet woody', 'avg_rating': 4.4, 'num_ratings': 112}}, {0.9906636: {'title': 'Pink Kush', 'tags': 'Indica Dominant|90% Indica/10% Sativa', 'relief': 'anxiety bipolar disorder chronic pain depression inflammation insomnia loss of appetite migraines ptsd stress', 'positive_effects': 'body high euphoria happy hungry relaxing sleepy', 'flavours': 'berry candy sweet vanilla', 'avg_rating': 4.7, 'num_ratings': 50}}, {0.9890757: {'title': 'Lemon Kush', 'tags': 'Hybrid,|50%/50%', 'relief': 'bipolar disorder chronic pain depression headaches insomnia migraines ptsd stress', 'positive_effects': 'creative euphoria happy relaxing uplifting', 'flavours': 'citrus lemon spicy sweet', 'avg_rating': 4.3, 'num_ratings': 40}}]\n"
     ]
    }
   ],
   "source": [
    "def elastic_search(es_client, query, limit=3, filter=None, random=False):\n",
    "    if random:\n",
    "        search_query = {\n",
    "          \"size\": 10,\n",
    "          \"query\": {\n",
    "            \"function_score\": {\n",
    "              \"functions\": [\n",
    "                {\n",
    "                  \"random_score\": {}\n",
    "                }\n",
    "              ]\n",
    "            }\n",
    "          }\n",
    "        }\n",
    "    else:\n",
    "        search_query = {\n",
    "            \"size\": 5,\n",
    "            \"query\": {\n",
    "                \"bool\": {\n",
    "                    \"must\": {\n",
    "                        \"multi_match\": {\n",
    "                            \"query\": query,\n",
    "                            \"fields\": [\"relief\", \"positive_effects\", \"flavours\"],\n",
    "                            \"type\": \"best_fields\"\n",
    "                        }\n",
    "                    },\n",
    "                    \"filter\": {  # TODO: add filter as parameter\n",
    "                        \"term\": {\n",
    "                            \"category\": \"flower\"\n",
    "                        }\n",
    "                    }\n",
    "                }\n",
    "            }\n",
    "        }\n",
    "    response = es_client.search(index=index_name, body=search_query)\n",
    "    \n",
    "    return response['hits']['hits'][:limit]\n",
    "\n",
    "def pretty(search_results):\n",
    "    result_docs = []\n",
    "    \n",
    "    for hit in search_results:\n",
    "        result_docs.append({hit['_score']: hit['_source']})\n",
    "    return result_docs\n",
    "\n",
    "\n",
    "query = 'Lemon, headache'\n",
    "index_name = \"course-questions\"\n",
    "\n",
    "res = elastic_search(es_client, query, random=True)\n",
    "sample = res[0]['_source']\n",
    "print(sample.keys())\n",
    "print()\n",
    "print(pretty(res))"
   ]
  },
  {
   "cell_type": "code",
   "execution_count": 17,
   "id": "61b88907-f541-40ea-88e1-8aad924028f2",
   "metadata": {},
   "outputs": [
    {
     "ename": "NameError",
     "evalue": "name '__file__' is not defined",
     "output_type": "error",
     "traceback": [
      "\u001b[0;31m---------------------------------------------------------------------------\u001b[0m",
      "\u001b[0;31mNameError\u001b[0m                                 Traceback (most recent call last)",
      "Cell \u001b[0;32mIn[17], line 3\u001b[0m\n\u001b[1;32m      1\u001b[0m \u001b[38;5;28;01mimport\u001b[39;00m \u001b[38;5;21;01mos\u001b[39;00m\n\u001b[0;32m----> 3\u001b[0m current_file_dir \u001b[38;5;241m=\u001b[39m os\u001b[38;5;241m.\u001b[39mpath\u001b[38;5;241m.\u001b[39mdirname(\u001b[38;5;18;43m__file__\u001b[39;49m)\n\u001b[1;32m      4\u001b[0m \u001b[38;5;28mprint\u001b[39m(current_file_dir)\n",
      "\u001b[0;31mNameError\u001b[0m: name '__file__' is not defined"
     ]
    }
   ],
   "source": [
    "import os\n",
    "\n",
    "current_file_dir = os.path.dirname(__file__)\n",
    "print(current_file_dir)"
   ]
  },
  {
   "cell_type": "code",
   "execution_count": 20,
   "id": "ed135224-a3fe-46b8-a374-b59623daeba5",
   "metadata": {},
   "outputs": [
    {
     "data": {
      "text/plain": [
       "['content_reviews_green_bro.json',\n",
       " 'es-data',\n",
       " 'content_green_bro.csv',\n",
       " 'dagster-data']"
      ]
     },
     "execution_count": 20,
     "metadata": {},
     "output_type": "execute_result"
    }
   ],
   "source": [
    "current_file_dir = os.getcwd()\n",
    "os.listdir(os.path.join(os.path.dirname(current_file_dir), 'data', 'pipelines-data'))"
   ]
  },
  {
   "cell_type": "code",
   "execution_count": null,
   "id": "a2fb4a73-4fe1-4baa-b57c-f1167c1481c4",
   "metadata": {},
   "outputs": [],
   "source": []
  }
 ],
 "metadata": {
  "kernelspec": {
   "display_name": "Python 3 (ipykernel)",
   "language": "python",
   "name": "python3"
  },
  "language_info": {
   "codemirror_mode": {
    "name": "ipython",
    "version": 3
   },
   "file_extension": ".py",
   "mimetype": "text/x-python",
   "name": "python",
   "nbconvert_exporter": "python",
   "pygments_lexer": "ipython3",
   "version": "3.10.13"
  }
 },
 "nbformat": 4,
 "nbformat_minor": 5
}
