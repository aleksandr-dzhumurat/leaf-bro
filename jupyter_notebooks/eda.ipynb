{
 "cells": [
  {
   "cell_type": "code",
   "execution_count": 1,
   "id": "27ea6454-937c-4711-ad65-bbd8981935b7",
   "metadata": {},
   "outputs": [
    {
     "data": {
      "text/plain": [
       "True"
      ]
     },
     "execution_count": 1,
     "metadata": {},
     "output_type": "execute_result"
    }
   ],
   "source": [
    "from dotenv import load_dotenv\n",
    "from elasticsearch import Elasticsearch\n",
    "\n",
    "es_client = Elasticsearch('http://localhost:9200')\n",
    "\n",
    "\n",
    "# Load environment variables from the .env file\n",
    "load_dotenv()"
   ]
  },
  {
   "cell_type": "code",
   "execution_count": 12,
   "id": "882052e5-49c0-42ef-8974-5ad74a32a901",
   "metadata": {},
   "outputs": [
    {
     "name": "stdout",
     "output_type": "stream",
     "text": [
      "dict_keys(['title', 'tags', 'relief', 'positive_effects', 'flavours', 'avg_rating', 'num_ratings'])\n",
      "\n",
      "{'title': 'Blood Diamond OG', 'tags': 'Indica', 'relief': 'chronic pain depression fatigue muscle spasms stress', 'positive_effects': 'body high relaxing sleepy', 'flavours': 'citrus herbal pine woody', 'avg_rating': 4.8, 'num_ratings': 50}\n"
     ]
    }
   ],
   "source": [
    "def elastic_search(es_client, query, limit=3, filter=None, random=False):\n",
    "    if random:\n",
    "        search_query = {\n",
    "          \"size\": 10,\n",
    "          \"query\": {\n",
    "            \"function_score\": {\n",
    "              \"functions\": [\n",
    "                {\n",
    "                  \"random_score\": {}\n",
    "                }\n",
    "              ]\n",
    "            }\n",
    "          }\n",
    "        }\n",
    "    else:\n",
    "        search_query = {\n",
    "            \"size\": 5,\n",
    "            \"query\": {\n",
    "                \"bool\": {\n",
    "                    \"must\": {\n",
    "                        \"multi_match\": {\n",
    "                            \"query\": query,\n",
    "                            \"fields\": [\"question^4\", \"text\"],\n",
    "                            \"type\": \"best_fields\"\n",
    "                        }\n",
    "                    },\n",
    "                    # \"filter\": {\n",
    "                    #     \"term\": {\n",
    "                    #         \"course\": \"data-engineering-zoomcamp\"\n",
    "                    #     }\n",
    "                    # }\n",
    "                }\n",
    "            }\n",
    "        }\n",
    "    if filter is not None:\n",
    "        search_query['query']['bool'].update({'filter': {\"term\": {\"course\": \"machine-learning-zoomcamp\"}}})\n",
    "\n",
    "    response = es_client.search(index=index_name, body=search_query)\n",
    "    \n",
    "    return response['hits']['hits'][:limit]\n",
    "\n",
    "def pretty(search_results):\n",
    "    result_docs = []\n",
    "    \n",
    "    for hit in search_results:\n",
    "        result_docs.append({hit['_score']: hit['_source']['question']})\n",
    "    return result_docs\n",
    "\n",
    "\n",
    "query = 'How do I execute a command in a running docker container?'\n",
    "# query = 'PostgreSQL'\n",
    "index_name = \"course-questions\"\n",
    "\n",
    "res = elastic_search(es_client, query, random=True)\n",
    "sample = res[0]['_source']\n",
    "print(sample.keys())\n",
    "print()\n",
    "print(sample)"
   ]
  },
  {
   "cell_type": "code",
   "execution_count": null,
   "id": "61b88907-f541-40ea-88e1-8aad924028f2",
   "metadata": {},
   "outputs": [],
   "source": []
  }
 ],
 "metadata": {
  "kernelspec": {
   "display_name": "Python 3 (ipykernel)",
   "language": "python",
   "name": "python3"
  },
  "language_info": {
   "codemirror_mode": {
    "name": "ipython",
    "version": 3
   },
   "file_extension": ".py",
   "mimetype": "text/x-python",
   "name": "python",
   "nbconvert_exporter": "python",
   "pygments_lexer": "ipython3",
   "version": "3.10.13"
  }
 },
 "nbformat": 4,
 "nbformat_minor": 5
}
